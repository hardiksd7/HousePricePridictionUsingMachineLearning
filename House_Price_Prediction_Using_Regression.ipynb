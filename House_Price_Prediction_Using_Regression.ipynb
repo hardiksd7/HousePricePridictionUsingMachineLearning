{
 "cells": [
  {
   "cell_type": "code",
   "execution_count": 67,
   "id": "11abf6ff",
   "metadata": {},
   "outputs": [],
   "source": [
    "import pandas as pd"
   ]
  },
  {
   "cell_type": "code",
   "execution_count": 68,
   "id": "cec753b5",
   "metadata": {},
   "outputs": [],
   "source": [
    "df = pd.read_csv(\"house_price_prediction.csv\")"
   ]
  },
  {
   "cell_type": "code",
   "execution_count": 69,
   "id": "8c499efa",
   "metadata": {},
   "outputs": [
    {
     "name": "stdout",
     "output_type": "stream",
     "text": [
      "<class 'pandas.core.frame.DataFrame'>\n",
      "RangeIndex: 17210 entries, 0 to 17209\n",
      "Data columns (total 19 columns):\n",
      " #   Column         Non-Null Count  Dtype  \n",
      "---  ------         --------------  -----  \n",
      " 0   id             17210 non-null  int64  \n",
      " 1   date           17210 non-null  object \n",
      " 2   price          17210 non-null  int64  \n",
      " 3   bedrooms       17210 non-null  int64  \n",
      " 4   sqft_living    17210 non-null  int64  \n",
      " 5   sqft_lot       17210 non-null  int64  \n",
      " 6   floors         17210 non-null  float64\n",
      " 7   waterfront     17210 non-null  int64  \n",
      " 8   condition      17210 non-null  int64  \n",
      " 9   grade          17210 non-null  int64  \n",
      " 10  sqft_above     17210 non-null  int64  \n",
      " 11  sqft_basement  17210 non-null  int64  \n",
      " 12  yr_built       17210 non-null  int64  \n",
      " 13  yr_renovated   17210 non-null  int64  \n",
      " 14  zipcode        17210 non-null  int64  \n",
      " 15  lat            17210 non-null  float64\n",
      " 16  long           17210 non-null  float64\n",
      " 17  sqft_living15  17210 non-null  int64  \n",
      " 18  sqft_lot15     17210 non-null  int64  \n",
      "dtypes: float64(3), int64(15), object(1)\n",
      "memory usage: 2.5+ MB\n"
     ]
    }
   ],
   "source": [
    "df.info()"
   ]
  },
  {
   "cell_type": "code",
   "execution_count": 70,
   "id": "f2f28be8",
   "metadata": {},
   "outputs": [
    {
     "data": {
      "text/html": [
       "<div>\n",
       "<style scoped>\n",
       "    .dataframe tbody tr th:only-of-type {\n",
       "        vertical-align: middle;\n",
       "    }\n",
       "\n",
       "    .dataframe tbody tr th {\n",
       "        vertical-align: top;\n",
       "    }\n",
       "\n",
       "    .dataframe thead th {\n",
       "        text-align: right;\n",
       "    }\n",
       "</style>\n",
       "<table border=\"1\" class=\"dataframe\">\n",
       "  <thead>\n",
       "    <tr style=\"text-align: right;\">\n",
       "      <th></th>\n",
       "      <th>id</th>\n",
       "      <th>date</th>\n",
       "      <th>price</th>\n",
       "      <th>bedrooms</th>\n",
       "      <th>sqft_living</th>\n",
       "      <th>sqft_lot</th>\n",
       "      <th>floors</th>\n",
       "      <th>waterfront</th>\n",
       "      <th>condition</th>\n",
       "      <th>grade</th>\n",
       "      <th>sqft_above</th>\n",
       "      <th>sqft_basement</th>\n",
       "      <th>yr_built</th>\n",
       "      <th>yr_renovated</th>\n",
       "      <th>zipcode</th>\n",
       "      <th>lat</th>\n",
       "      <th>long</th>\n",
       "      <th>sqft_living15</th>\n",
       "      <th>sqft_lot15</th>\n",
       "    </tr>\n",
       "  </thead>\n",
       "  <tbody>\n",
       "    <tr>\n",
       "      <th>0</th>\n",
       "      <td>1702900664</td>\n",
       "      <td>4/16/2015</td>\n",
       "      <td>479000</td>\n",
       "      <td>2</td>\n",
       "      <td>1730</td>\n",
       "      <td>1037</td>\n",
       "      <td>3.5</td>\n",
       "      <td>0</td>\n",
       "      <td>3</td>\n",
       "      <td>8</td>\n",
       "      <td>1730</td>\n",
       "      <td>0</td>\n",
       "      <td>2008</td>\n",
       "      <td>0</td>\n",
       "      <td>98118</td>\n",
       "      <td>47.5594</td>\n",
       "      <td>-122.285</td>\n",
       "      <td>1280</td>\n",
       "      <td>1026</td>\n",
       "    </tr>\n",
       "    <tr>\n",
       "      <th>1</th>\n",
       "      <td>8673400177</td>\n",
       "      <td>04-02-2015</td>\n",
       "      <td>525000</td>\n",
       "      <td>3</td>\n",
       "      <td>1730</td>\n",
       "      <td>1074</td>\n",
       "      <td>3.5</td>\n",
       "      <td>0</td>\n",
       "      <td>3</td>\n",
       "      <td>8</td>\n",
       "      <td>1730</td>\n",
       "      <td>0</td>\n",
       "      <td>2006</td>\n",
       "      <td>0</td>\n",
       "      <td>98107</td>\n",
       "      <td>47.6692</td>\n",
       "      <td>-122.392</td>\n",
       "      <td>1370</td>\n",
       "      <td>1185</td>\n",
       "    </tr>\n",
       "    <tr>\n",
       "      <th>2</th>\n",
       "      <td>1972202010</td>\n",
       "      <td>08-01-2014</td>\n",
       "      <td>435000</td>\n",
       "      <td>3</td>\n",
       "      <td>1440</td>\n",
       "      <td>1350</td>\n",
       "      <td>3.5</td>\n",
       "      <td>0</td>\n",
       "      <td>3</td>\n",
       "      <td>8</td>\n",
       "      <td>1440</td>\n",
       "      <td>0</td>\n",
       "      <td>2005</td>\n",
       "      <td>0</td>\n",
       "      <td>98103</td>\n",
       "      <td>47.6525</td>\n",
       "      <td>-122.345</td>\n",
       "      <td>1440</td>\n",
       "      <td>1350</td>\n",
       "    </tr>\n",
       "    <tr>\n",
       "      <th>3</th>\n",
       "      <td>1972200428</td>\n",
       "      <td>6/25/2014</td>\n",
       "      <td>563500</td>\n",
       "      <td>3</td>\n",
       "      <td>1400</td>\n",
       "      <td>1312</td>\n",
       "      <td>3.5</td>\n",
       "      <td>0</td>\n",
       "      <td>3</td>\n",
       "      <td>8</td>\n",
       "      <td>1400</td>\n",
       "      <td>0</td>\n",
       "      <td>2007</td>\n",
       "      <td>0</td>\n",
       "      <td>98103</td>\n",
       "      <td>47.6534</td>\n",
       "      <td>-122.355</td>\n",
       "      <td>1350</td>\n",
       "      <td>1312</td>\n",
       "    </tr>\n",
       "    <tr>\n",
       "      <th>4</th>\n",
       "      <td>1972200426</td>\n",
       "      <td>9/18/2014</td>\n",
       "      <td>525000</td>\n",
       "      <td>2</td>\n",
       "      <td>1310</td>\n",
       "      <td>1268</td>\n",
       "      <td>3.5</td>\n",
       "      <td>0</td>\n",
       "      <td>3</td>\n",
       "      <td>8</td>\n",
       "      <td>1310</td>\n",
       "      <td>0</td>\n",
       "      <td>2007</td>\n",
       "      <td>0</td>\n",
       "      <td>98103</td>\n",
       "      <td>47.6534</td>\n",
       "      <td>-122.355</td>\n",
       "      <td>1350</td>\n",
       "      <td>1288</td>\n",
       "    </tr>\n",
       "    <tr>\n",
       "      <th>5</th>\n",
       "      <td>3180100023</td>\n",
       "      <td>1/30/2015</td>\n",
       "      <td>544000</td>\n",
       "      <td>3</td>\n",
       "      <td>1760</td>\n",
       "      <td>1755</td>\n",
       "      <td>3.5</td>\n",
       "      <td>0</td>\n",
       "      <td>3</td>\n",
       "      <td>8</td>\n",
       "      <td>1760</td>\n",
       "      <td>0</td>\n",
       "      <td>1998</td>\n",
       "      <td>0</td>\n",
       "      <td>98105</td>\n",
       "      <td>47.6688</td>\n",
       "      <td>-122.279</td>\n",
       "      <td>1700</td>\n",
       "      <td>1721</td>\n",
       "    </tr>\n",
       "    <tr>\n",
       "      <th>6</th>\n",
       "      <td>2559950110</td>\n",
       "      <td>4/22/2015</td>\n",
       "      <td>1230000</td>\n",
       "      <td>2</td>\n",
       "      <td>2470</td>\n",
       "      <td>609</td>\n",
       "      <td>3.0</td>\n",
       "      <td>0</td>\n",
       "      <td>3</td>\n",
       "      <td>11</td>\n",
       "      <td>1910</td>\n",
       "      <td>560</td>\n",
       "      <td>2011</td>\n",
       "      <td>0</td>\n",
       "      <td>98112</td>\n",
       "      <td>47.6182</td>\n",
       "      <td>-122.312</td>\n",
       "      <td>2440</td>\n",
       "      <td>1229</td>\n",
       "    </tr>\n",
       "    <tr>\n",
       "      <th>7</th>\n",
       "      <td>6169901185</td>\n",
       "      <td>5/20/2014</td>\n",
       "      <td>490000</td>\n",
       "      <td>5</td>\n",
       "      <td>4460</td>\n",
       "      <td>2975</td>\n",
       "      <td>3.0</td>\n",
       "      <td>0</td>\n",
       "      <td>3</td>\n",
       "      <td>10</td>\n",
       "      <td>3280</td>\n",
       "      <td>1180</td>\n",
       "      <td>2015</td>\n",
       "      <td>0</td>\n",
       "      <td>98119</td>\n",
       "      <td>47.6313</td>\n",
       "      <td>-122.370</td>\n",
       "      <td>2490</td>\n",
       "      <td>4231</td>\n",
       "    </tr>\n",
       "    <tr>\n",
       "      <th>8</th>\n",
       "      <td>2770603522</td>\n",
       "      <td>12-11-2014</td>\n",
       "      <td>585000</td>\n",
       "      <td>3</td>\n",
       "      <td>2160</td>\n",
       "      <td>1250</td>\n",
       "      <td>3.0</td>\n",
       "      <td>0</td>\n",
       "      <td>3</td>\n",
       "      <td>8</td>\n",
       "      <td>1830</td>\n",
       "      <td>330</td>\n",
       "      <td>2010</td>\n",
       "      <td>0</td>\n",
       "      <td>98119</td>\n",
       "      <td>47.6515</td>\n",
       "      <td>-122.375</td>\n",
       "      <td>1870</td>\n",
       "      <td>2825</td>\n",
       "    </tr>\n",
       "    <tr>\n",
       "      <th>9</th>\n",
       "      <td>1294300038</td>\n",
       "      <td>07-11-2014</td>\n",
       "      <td>450000</td>\n",
       "      <td>3</td>\n",
       "      <td>1810</td>\n",
       "      <td>914</td>\n",
       "      <td>3.0</td>\n",
       "      <td>0</td>\n",
       "      <td>3</td>\n",
       "      <td>8</td>\n",
       "      <td>1380</td>\n",
       "      <td>430</td>\n",
       "      <td>2008</td>\n",
       "      <td>0</td>\n",
       "      <td>98116</td>\n",
       "      <td>47.5732</td>\n",
       "      <td>-122.387</td>\n",
       "      <td>1810</td>\n",
       "      <td>914</td>\n",
       "    </tr>\n",
       "    <tr>\n",
       "      <th>10</th>\n",
       "      <td>8725950220</td>\n",
       "      <td>2/26/2015</td>\n",
       "      <td>910000</td>\n",
       "      <td>3</td>\n",
       "      <td>2030</td>\n",
       "      <td>1160</td>\n",
       "      <td>3.0</td>\n",
       "      <td>0</td>\n",
       "      <td>3</td>\n",
       "      <td>9</td>\n",
       "      <td>1970</td>\n",
       "      <td>60</td>\n",
       "      <td>2007</td>\n",
       "      <td>0</td>\n",
       "      <td>98004</td>\n",
       "      <td>47.6213</td>\n",
       "      <td>-122.200</td>\n",
       "      <td>1950</td>\n",
       "      <td>1160</td>\n",
       "    </tr>\n",
       "    <tr>\n",
       "      <th>11</th>\n",
       "      <td>7517500611</td>\n",
       "      <td>5/21/2014</td>\n",
       "      <td>720000</td>\n",
       "      <td>3</td>\n",
       "      <td>2020</td>\n",
       "      <td>1159</td>\n",
       "      <td>3.0</td>\n",
       "      <td>0</td>\n",
       "      <td>3</td>\n",
       "      <td>8</td>\n",
       "      <td>2020</td>\n",
       "      <td>0</td>\n",
       "      <td>2000</td>\n",
       "      <td>0</td>\n",
       "      <td>98103</td>\n",
       "      <td>47.6617</td>\n",
       "      <td>-122.356</td>\n",
       "      <td>1920</td>\n",
       "      <td>3600</td>\n",
       "    </tr>\n",
       "    <tr>\n",
       "      <th>12</th>\n",
       "      <td>6371000079</td>\n",
       "      <td>7/14/2014</td>\n",
       "      <td>575000</td>\n",
       "      <td>4</td>\n",
       "      <td>2070</td>\n",
       "      <td>1230</td>\n",
       "      <td>3.0</td>\n",
       "      <td>0</td>\n",
       "      <td>3</td>\n",
       "      <td>9</td>\n",
       "      <td>1500</td>\n",
       "      <td>570</td>\n",
       "      <td>2013</td>\n",
       "      <td>0</td>\n",
       "      <td>98116</td>\n",
       "      <td>47.5775</td>\n",
       "      <td>-122.410</td>\n",
       "      <td>1569</td>\n",
       "      <td>4802</td>\n",
       "    </tr>\n",
       "    <tr>\n",
       "      <th>13</th>\n",
       "      <td>7234601198</td>\n",
       "      <td>06-04-2014</td>\n",
       "      <td>742000</td>\n",
       "      <td>3</td>\n",
       "      <td>1540</td>\n",
       "      <td>704</td>\n",
       "      <td>3.0</td>\n",
       "      <td>0</td>\n",
       "      <td>3</td>\n",
       "      <td>9</td>\n",
       "      <td>1540</td>\n",
       "      <td>0</td>\n",
       "      <td>2011</td>\n",
       "      <td>0</td>\n",
       "      <td>98122</td>\n",
       "      <td>47.6177</td>\n",
       "      <td>-122.308</td>\n",
       "      <td>1540</td>\n",
       "      <td>1456</td>\n",
       "    </tr>\n",
       "    <tr>\n",
       "      <th>14</th>\n",
       "      <td>1972202187</td>\n",
       "      <td>10/24/2014</td>\n",
       "      <td>565000</td>\n",
       "      <td>3</td>\n",
       "      <td>1870</td>\n",
       "      <td>1058</td>\n",
       "      <td>3.0</td>\n",
       "      <td>0</td>\n",
       "      <td>3</td>\n",
       "      <td>8</td>\n",
       "      <td>1380</td>\n",
       "      <td>490</td>\n",
       "      <td>2007</td>\n",
       "      <td>0</td>\n",
       "      <td>98103</td>\n",
       "      <td>47.6512</td>\n",
       "      <td>-122.345</td>\n",
       "      <td>1440</td>\n",
       "      <td>1136</td>\n",
       "    </tr>\n",
       "    <tr>\n",
       "      <th>15</th>\n",
       "      <td>6926700654</td>\n",
       "      <td>9/21/2014</td>\n",
       "      <td>700000</td>\n",
       "      <td>2</td>\n",
       "      <td>1490</td>\n",
       "      <td>713</td>\n",
       "      <td>3.0</td>\n",
       "      <td>0</td>\n",
       "      <td>3</td>\n",
       "      <td>9</td>\n",
       "      <td>1490</td>\n",
       "      <td>0</td>\n",
       "      <td>2014</td>\n",
       "      <td>0</td>\n",
       "      <td>98109</td>\n",
       "      <td>47.6356</td>\n",
       "      <td>-122.346</td>\n",
       "      <td>1490</td>\n",
       "      <td>1110</td>\n",
       "    </tr>\n",
       "    <tr>\n",
       "      <th>16</th>\n",
       "      <td>9578080040</td>\n",
       "      <td>08-12-2014</td>\n",
       "      <td>589000</td>\n",
       "      <td>3</td>\n",
       "      <td>1720</td>\n",
       "      <td>954</td>\n",
       "      <td>3.0</td>\n",
       "      <td>0</td>\n",
       "      <td>3</td>\n",
       "      <td>8</td>\n",
       "      <td>1460</td>\n",
       "      <td>260</td>\n",
       "      <td>2006</td>\n",
       "      <td>0</td>\n",
       "      <td>98119</td>\n",
       "      <td>47.6480</td>\n",
       "      <td>-122.358</td>\n",
       "      <td>1720</td>\n",
       "      <td>1294</td>\n",
       "    </tr>\n",
       "    <tr>\n",
       "      <th>17</th>\n",
       "      <td>7011201306</td>\n",
       "      <td>02-12-2015</td>\n",
       "      <td>1120000</td>\n",
       "      <td>4</td>\n",
       "      <td>2530</td>\n",
       "      <td>1774</td>\n",
       "      <td>3.0</td>\n",
       "      <td>0</td>\n",
       "      <td>3</td>\n",
       "      <td>9</td>\n",
       "      <td>2100</td>\n",
       "      <td>430</td>\n",
       "      <td>2013</td>\n",
       "      <td>0</td>\n",
       "      <td>98119</td>\n",
       "      <td>47.6362</td>\n",
       "      <td>-122.369</td>\n",
       "      <td>2160</td>\n",
       "      <td>2400</td>\n",
       "    </tr>\n",
       "    <tr>\n",
       "      <th>18</th>\n",
       "      <td>1732800194</td>\n",
       "      <td>11/13/2014</td>\n",
       "      <td>840000</td>\n",
       "      <td>2</td>\n",
       "      <td>1680</td>\n",
       "      <td>975</td>\n",
       "      <td>3.0</td>\n",
       "      <td>0</td>\n",
       "      <td>3</td>\n",
       "      <td>9</td>\n",
       "      <td>1680</td>\n",
       "      <td>0</td>\n",
       "      <td>2009</td>\n",
       "      <td>0</td>\n",
       "      <td>98119</td>\n",
       "      <td>47.6321</td>\n",
       "      <td>-122.361</td>\n",
       "      <td>1680</td>\n",
       "      <td>977</td>\n",
       "    </tr>\n",
       "    <tr>\n",
       "      <th>19</th>\n",
       "      <td>7132300525</td>\n",
       "      <td>04-11-2015</td>\n",
       "      <td>500000</td>\n",
       "      <td>3</td>\n",
       "      <td>1530</td>\n",
       "      <td>825</td>\n",
       "      <td>3.0</td>\n",
       "      <td>0</td>\n",
       "      <td>3</td>\n",
       "      <td>8</td>\n",
       "      <td>1530</td>\n",
       "      <td>0</td>\n",
       "      <td>2015</td>\n",
       "      <td>0</td>\n",
       "      <td>98144</td>\n",
       "      <td>47.5929</td>\n",
       "      <td>-122.308</td>\n",
       "      <td>1580</td>\n",
       "      <td>1915</td>\n",
       "    </tr>\n",
       "  </tbody>\n",
       "</table>\n",
       "</div>"
      ],
      "text/plain": [
       "            id        date    price  bedrooms  sqft_living  sqft_lot  floors  \\\n",
       "0   1702900664   4/16/2015   479000         2         1730      1037     3.5   \n",
       "1   8673400177  04-02-2015   525000         3         1730      1074     3.5   \n",
       "2   1972202010  08-01-2014   435000         3         1440      1350     3.5   \n",
       "3   1972200428   6/25/2014   563500         3         1400      1312     3.5   \n",
       "4   1972200426   9/18/2014   525000         2         1310      1268     3.5   \n",
       "5   3180100023   1/30/2015   544000         3         1760      1755     3.5   \n",
       "6   2559950110   4/22/2015  1230000         2         2470       609     3.0   \n",
       "7   6169901185   5/20/2014   490000         5         4460      2975     3.0   \n",
       "8   2770603522  12-11-2014   585000         3         2160      1250     3.0   \n",
       "9   1294300038  07-11-2014   450000         3         1810       914     3.0   \n",
       "10  8725950220   2/26/2015   910000         3         2030      1160     3.0   \n",
       "11  7517500611   5/21/2014   720000         3         2020      1159     3.0   \n",
       "12  6371000079   7/14/2014   575000         4         2070      1230     3.0   \n",
       "13  7234601198  06-04-2014   742000         3         1540       704     3.0   \n",
       "14  1972202187  10/24/2014   565000         3         1870      1058     3.0   \n",
       "15  6926700654   9/21/2014   700000         2         1490       713     3.0   \n",
       "16  9578080040  08-12-2014   589000         3         1720       954     3.0   \n",
       "17  7011201306  02-12-2015  1120000         4         2530      1774     3.0   \n",
       "18  1732800194  11/13/2014   840000         2         1680       975     3.0   \n",
       "19  7132300525  04-11-2015   500000         3         1530       825     3.0   \n",
       "\n",
       "    waterfront  condition  grade  sqft_above  sqft_basement  yr_built  \\\n",
       "0            0          3      8        1730              0      2008   \n",
       "1            0          3      8        1730              0      2006   \n",
       "2            0          3      8        1440              0      2005   \n",
       "3            0          3      8        1400              0      2007   \n",
       "4            0          3      8        1310              0      2007   \n",
       "5            0          3      8        1760              0      1998   \n",
       "6            0          3     11        1910            560      2011   \n",
       "7            0          3     10        3280           1180      2015   \n",
       "8            0          3      8        1830            330      2010   \n",
       "9            0          3      8        1380            430      2008   \n",
       "10           0          3      9        1970             60      2007   \n",
       "11           0          3      8        2020              0      2000   \n",
       "12           0          3      9        1500            570      2013   \n",
       "13           0          3      9        1540              0      2011   \n",
       "14           0          3      8        1380            490      2007   \n",
       "15           0          3      9        1490              0      2014   \n",
       "16           0          3      8        1460            260      2006   \n",
       "17           0          3      9        2100            430      2013   \n",
       "18           0          3      9        1680              0      2009   \n",
       "19           0          3      8        1530              0      2015   \n",
       "\n",
       "    yr_renovated  zipcode      lat     long  sqft_living15  sqft_lot15  \n",
       "0              0    98118  47.5594 -122.285           1280        1026  \n",
       "1              0    98107  47.6692 -122.392           1370        1185  \n",
       "2              0    98103  47.6525 -122.345           1440        1350  \n",
       "3              0    98103  47.6534 -122.355           1350        1312  \n",
       "4              0    98103  47.6534 -122.355           1350        1288  \n",
       "5              0    98105  47.6688 -122.279           1700        1721  \n",
       "6              0    98112  47.6182 -122.312           2440        1229  \n",
       "7              0    98119  47.6313 -122.370           2490        4231  \n",
       "8              0    98119  47.6515 -122.375           1870        2825  \n",
       "9              0    98116  47.5732 -122.387           1810         914  \n",
       "10             0    98004  47.6213 -122.200           1950        1160  \n",
       "11             0    98103  47.6617 -122.356           1920        3600  \n",
       "12             0    98116  47.5775 -122.410           1569        4802  \n",
       "13             0    98122  47.6177 -122.308           1540        1456  \n",
       "14             0    98103  47.6512 -122.345           1440        1136  \n",
       "15             0    98109  47.6356 -122.346           1490        1110  \n",
       "16             0    98119  47.6480 -122.358           1720        1294  \n",
       "17             0    98119  47.6362 -122.369           2160        2400  \n",
       "18             0    98119  47.6321 -122.361           1680         977  \n",
       "19             0    98144  47.5929 -122.308           1580        1915  "
      ]
     },
     "execution_count": 70,
     "metadata": {},
     "output_type": "execute_result"
    }
   ],
   "source": [
    "df.head(20)"
   ]
  },
  {
   "cell_type": "markdown",
   "id": "ec33a806",
   "metadata": {},
   "source": [
    "# Feature Engineering"
   ]
  },
  {
   "cell_type": "markdown",
   "id": "23a8273f",
   "metadata": {},
   "source": [
    "  #  Create new features based on existing features\n",
    "# --In this data we will add two new columns / features age of the house and avg. price for given zipcode\n",
    "# age of house = no of years(year of sell(from date column) - yr_built)\n",
    "\n",
    "# - avg price per zipcode ::: Pandas groupby"
   ]
  },
  {
   "cell_type": "code",
   "execution_count": 71,
   "id": "d6122bf6",
   "metadata": {},
   "outputs": [],
   "source": [
    "df['date'] = pd.to_datetime(df['date'],format='mixed')"
   ]
  },
  {
   "cell_type": "code",
   "execution_count": 72,
   "id": "de84ae0e",
   "metadata": {},
   "outputs": [
    {
     "name": "stdout",
     "output_type": "stream",
     "text": [
      "<class 'pandas.core.frame.DataFrame'>\n",
      "RangeIndex: 17210 entries, 0 to 17209\n",
      "Data columns (total 19 columns):\n",
      " #   Column         Non-Null Count  Dtype         \n",
      "---  ------         --------------  -----         \n",
      " 0   id             17210 non-null  int64         \n",
      " 1   date           17210 non-null  datetime64[ns]\n",
      " 2   price          17210 non-null  int64         \n",
      " 3   bedrooms       17210 non-null  int64         \n",
      " 4   sqft_living    17210 non-null  int64         \n",
      " 5   sqft_lot       17210 non-null  int64         \n",
      " 6   floors         17210 non-null  float64       \n",
      " 7   waterfront     17210 non-null  int64         \n",
      " 8   condition      17210 non-null  int64         \n",
      " 9   grade          17210 non-null  int64         \n",
      " 10  sqft_above     17210 non-null  int64         \n",
      " 11  sqft_basement  17210 non-null  int64         \n",
      " 12  yr_built       17210 non-null  int64         \n",
      " 13  yr_renovated   17210 non-null  int64         \n",
      " 14  zipcode        17210 non-null  int64         \n",
      " 15  lat            17210 non-null  float64       \n",
      " 16  long           17210 non-null  float64       \n",
      " 17  sqft_living15  17210 non-null  int64         \n",
      " 18  sqft_lot15     17210 non-null  int64         \n",
      "dtypes: datetime64[ns](1), float64(3), int64(15)\n",
      "memory usage: 2.5 MB\n"
     ]
    }
   ],
   "source": [
    "df.info()"
   ]
  },
  {
   "cell_type": "code",
   "execution_count": 73,
   "id": "b5b29b49",
   "metadata": {},
   "outputs": [],
   "source": [
    "df['age'] = df['date'].dt.year -df['yr_built']"
   ]
  },
  {
   "cell_type": "code",
   "execution_count": null,
   "id": "7517db03",
   "metadata": {},
   "outputs": [],
   "source": []
  },
  {
   "cell_type": "markdown",
   "id": "ef6e6a5e",
   "metadata": {},
   "source": [
    "# Preprocess the features\n",
    "-- Drop unnecessary columns"
   ]
  },
  {
   "cell_type": "code",
   "execution_count": 74,
   "id": "2a7d2d98",
   "metadata": {},
   "outputs": [],
   "source": [
    "droped_col = ['id','date','yr_built','zipcode','lat','long','sqft_living','sqft_lot','yr_renovated']\n",
    "df.drop(droped_col, axis=1,inplace= True)"
   ]
  },
  {
   "cell_type": "code",
   "execution_count": 75,
   "id": "60bdc0ac",
   "metadata": {},
   "outputs": [
    {
     "data": {
      "text/plain": [
       "(17210, 11)"
      ]
     },
     "execution_count": 75,
     "metadata": {},
     "output_type": "execute_result"
    }
   ],
   "source": [
    "df.shape"
   ]
  },
  {
   "cell_type": "code",
   "execution_count": 76,
   "id": "4fa1f575",
   "metadata": {},
   "outputs": [
    {
     "data": {
      "text/plain": [
       "price             3.821753\n",
       "bedrooms          2.400169\n",
       "floors            0.614256\n",
       "waterfront       10.992823\n",
       "condition         1.062413\n",
       "grade             0.797259\n",
       "sqft_above        1.416897\n",
       "sqft_basement     1.597025\n",
       "sqft_living15     1.110448\n",
       "sqft_lot15        8.972974\n",
       "age               0.482072\n",
       "dtype: float64"
      ]
     },
     "execution_count": 76,
     "metadata": {},
     "output_type": "execute_result"
    }
   ],
   "source": [
    "# Find the skew of every column\n",
    "df.skew()"
   ]
  },
  {
   "cell_type": "code",
   "execution_count": 77,
   "id": "d5cf88db",
   "metadata": {},
   "outputs": [
    {
     "data": {
      "text/plain": [
       "price            3206\n",
       "bedrooms           12\n",
       "floors              6\n",
       "waterfront          2\n",
       "condition           5\n",
       "grade              11\n",
       "sqft_above        859\n",
       "sqft_basement     293\n",
       "sqft_living15     718\n",
       "sqft_lot15       7592\n",
       "age               117\n",
       "dtype: int64"
      ]
     },
     "execution_count": 77,
     "metadata": {},
     "output_type": "execute_result"
    }
   ],
   "source": [
    "df.nunique()"
   ]
  },
  {
   "cell_type": "markdown",
   "id": "61d97c90",
   "metadata": {},
   "source": [
    "# dealing with continuous variables which have very high skew.\n",
    "\n",
    "- can convert them to normal distribution\n",
    "\n",
    "- We use Power Transform\n",
    "\n",
    "- 1. BOX- COX Transform #used in banks\n",
    "\n",
    "- 2. Log Transform\n",
    "\n",
    "- 3. Square Transform "
   ]
  },
  {
   "cell_type": "code",
   "execution_count": 80,
   "id": "8d319531",
   "metadata": {},
   "outputs": [],
   "source": [
    "from sklearn.preprocessing import PowerTransformer\n",
    "df['sqft_lot15_bc'] = PowerTransformer(method='box-cox').fit_transform(df[['sqft_lot15']])"
   ]
  },
  {
   "cell_type": "code",
   "execution_count": 81,
   "id": "07619014",
   "metadata": {},
   "outputs": [
    {
     "data": {
      "text/plain": [
       "price             3.821753\n",
       "bedrooms          2.400169\n",
       "floors            0.614256\n",
       "waterfront       10.992823\n",
       "condition         1.062413\n",
       "grade             0.797259\n",
       "sqft_above        1.416897\n",
       "sqft_basement     1.597025\n",
       "sqft_living15     1.110448\n",
       "sqft_lot15        8.972974\n",
       "age               0.482072\n",
       "sqft_lot15_bc    -0.111873\n",
       "dtype: float64"
      ]
     },
     "execution_count": 81,
     "metadata": {},
     "output_type": "execute_result"
    }
   ],
   "source": [
    "df.skew()"
   ]
  },
  {
   "cell_type": "code",
   "execution_count": 82,
   "id": "db24d8a0",
   "metadata": {},
   "outputs": [],
   "source": [
    "df.drop('sqft_lot15',axis=1,inplace=True)"
   ]
  },
  {
   "cell_type": "code",
   "execution_count": 83,
   "id": "ee3b0a2a",
   "metadata": {},
   "outputs": [
    {
     "data": {
      "text/plain": [
       "(17210, 11)"
      ]
     },
     "execution_count": 83,
     "metadata": {},
     "output_type": "execute_result"
    }
   ],
   "source": [
    "df.shape"
   ]
  },
  {
   "cell_type": "code",
   "execution_count": 84,
   "id": "39bbd691",
   "metadata": {},
   "outputs": [
    {
     "data": {
      "text/html": [
       "<div>\n",
       "<style scoped>\n",
       "    .dataframe tbody tr th:only-of-type {\n",
       "        vertical-align: middle;\n",
       "    }\n",
       "\n",
       "    .dataframe tbody tr th {\n",
       "        vertical-align: top;\n",
       "    }\n",
       "\n",
       "    .dataframe thead th {\n",
       "        text-align: right;\n",
       "    }\n",
       "</style>\n",
       "<table border=\"1\" class=\"dataframe\">\n",
       "  <thead>\n",
       "    <tr style=\"text-align: right;\">\n",
       "      <th></th>\n",
       "      <th>price</th>\n",
       "      <th>bedrooms</th>\n",
       "      <th>floors</th>\n",
       "      <th>waterfront</th>\n",
       "      <th>condition</th>\n",
       "      <th>grade</th>\n",
       "      <th>sqft_above</th>\n",
       "      <th>sqft_basement</th>\n",
       "      <th>sqft_living15</th>\n",
       "      <th>age</th>\n",
       "      <th>sqft_lot15_bc</th>\n",
       "    </tr>\n",
       "  </thead>\n",
       "  <tbody>\n",
       "    <tr>\n",
       "      <th>0</th>\n",
       "      <td>479000</td>\n",
       "      <td>2</td>\n",
       "      <td>3.5</td>\n",
       "      <td>0</td>\n",
       "      <td>3</td>\n",
       "      <td>8</td>\n",
       "      <td>1730</td>\n",
       "      <td>0</td>\n",
       "      <td>1280</td>\n",
       "      <td>7</td>\n",
       "      <td>-3.101923</td>\n",
       "    </tr>\n",
       "    <tr>\n",
       "      <th>1</th>\n",
       "      <td>525000</td>\n",
       "      <td>3</td>\n",
       "      <td>3.5</td>\n",
       "      <td>0</td>\n",
       "      <td>3</td>\n",
       "      <td>8</td>\n",
       "      <td>1730</td>\n",
       "      <td>0</td>\n",
       "      <td>1370</td>\n",
       "      <td>9</td>\n",
       "      <td>-2.829880</td>\n",
       "    </tr>\n",
       "    <tr>\n",
       "      <th>2</th>\n",
       "      <td>435000</td>\n",
       "      <td>3</td>\n",
       "      <td>3.5</td>\n",
       "      <td>0</td>\n",
       "      <td>3</td>\n",
       "      <td>8</td>\n",
       "      <td>1440</td>\n",
       "      <td>0</td>\n",
       "      <td>1440</td>\n",
       "      <td>9</td>\n",
       "      <td>-2.590466</td>\n",
       "    </tr>\n",
       "    <tr>\n",
       "      <th>3</th>\n",
       "      <td>563500</td>\n",
       "      <td>3</td>\n",
       "      <td>3.5</td>\n",
       "      <td>0</td>\n",
       "      <td>3</td>\n",
       "      <td>8</td>\n",
       "      <td>1400</td>\n",
       "      <td>0</td>\n",
       "      <td>1350</td>\n",
       "      <td>7</td>\n",
       "      <td>-2.642364</td>\n",
       "    </tr>\n",
       "    <tr>\n",
       "      <th>4</th>\n",
       "      <td>525000</td>\n",
       "      <td>2</td>\n",
       "      <td>3.5</td>\n",
       "      <td>0</td>\n",
       "      <td>3</td>\n",
       "      <td>8</td>\n",
       "      <td>1310</td>\n",
       "      <td>0</td>\n",
       "      <td>1350</td>\n",
       "      <td>7</td>\n",
       "      <td>-2.676082</td>\n",
       "    </tr>\n",
       "    <tr>\n",
       "      <th>...</th>\n",
       "      <td>...</td>\n",
       "      <td>...</td>\n",
       "      <td>...</td>\n",
       "      <td>...</td>\n",
       "      <td>...</td>\n",
       "      <td>...</td>\n",
       "      <td>...</td>\n",
       "      <td>...</td>\n",
       "      <td>...</td>\n",
       "      <td>...</td>\n",
       "      <td>...</td>\n",
       "    </tr>\n",
       "    <tr>\n",
       "      <th>17205</th>\n",
       "      <td>425000</td>\n",
       "      <td>3</td>\n",
       "      <td>1.0</td>\n",
       "      <td>0</td>\n",
       "      <td>4</td>\n",
       "      <td>7</td>\n",
       "      <td>1140</td>\n",
       "      <td>220</td>\n",
       "      <td>1700</td>\n",
       "      <td>60</td>\n",
       "      <td>2.219587</td>\n",
       "    </tr>\n",
       "    <tr>\n",
       "      <th>17206</th>\n",
       "      <td>700000</td>\n",
       "      <td>3</td>\n",
       "      <td>1.0</td>\n",
       "      <td>0</td>\n",
       "      <td>4</td>\n",
       "      <td>8</td>\n",
       "      <td>2530</td>\n",
       "      <td>0</td>\n",
       "      <td>2120</td>\n",
       "      <td>35</td>\n",
       "      <td>2.625224</td>\n",
       "    </tr>\n",
       "    <tr>\n",
       "      <th>17207</th>\n",
       "      <td>790000</td>\n",
       "      <td>2</td>\n",
       "      <td>1.0</td>\n",
       "      <td>0</td>\n",
       "      <td>3</td>\n",
       "      <td>8</td>\n",
       "      <td>2560</td>\n",
       "      <td>0</td>\n",
       "      <td>1620</td>\n",
       "      <td>10</td>\n",
       "      <td>1.877541</td>\n",
       "    </tr>\n",
       "    <tr>\n",
       "      <th>17208</th>\n",
       "      <td>190000</td>\n",
       "      <td>2</td>\n",
       "      <td>1.0</td>\n",
       "      <td>0</td>\n",
       "      <td>2</td>\n",
       "      <td>5</td>\n",
       "      <td>710</td>\n",
       "      <td>0</td>\n",
       "      <td>1680</td>\n",
       "      <td>100</td>\n",
       "      <td>0.985301</td>\n",
       "    </tr>\n",
       "    <tr>\n",
       "      <th>17209</th>\n",
       "      <td>700000</td>\n",
       "      <td>4</td>\n",
       "      <td>1.0</td>\n",
       "      <td>0</td>\n",
       "      <td>4</td>\n",
       "      <td>6</td>\n",
       "      <td>1300</td>\n",
       "      <td>0</td>\n",
       "      <td>2560</td>\n",
       "      <td>95</td>\n",
       "      <td>3.573799</td>\n",
       "    </tr>\n",
       "  </tbody>\n",
       "</table>\n",
       "<p>17210 rows × 11 columns</p>\n",
       "</div>"
      ],
      "text/plain": [
       "        price  bedrooms  floors  waterfront  condition  grade  sqft_above  \\\n",
       "0      479000         2     3.5           0          3      8        1730   \n",
       "1      525000         3     3.5           0          3      8        1730   \n",
       "2      435000         3     3.5           0          3      8        1440   \n",
       "3      563500         3     3.5           0          3      8        1400   \n",
       "4      525000         2     3.5           0          3      8        1310   \n",
       "...       ...       ...     ...         ...        ...    ...         ...   \n",
       "17205  425000         3     1.0           0          4      7        1140   \n",
       "17206  700000         3     1.0           0          4      8        2530   \n",
       "17207  790000         2     1.0           0          3      8        2560   \n",
       "17208  190000         2     1.0           0          2      5         710   \n",
       "17209  700000         4     1.0           0          4      6        1300   \n",
       "\n",
       "       sqft_basement  sqft_living15  age  sqft_lot15_bc  \n",
       "0                  0           1280    7      -3.101923  \n",
       "1                  0           1370    9      -2.829880  \n",
       "2                  0           1440    9      -2.590466  \n",
       "3                  0           1350    7      -2.642364  \n",
       "4                  0           1350    7      -2.676082  \n",
       "...              ...            ...  ...            ...  \n",
       "17205            220           1700   60       2.219587  \n",
       "17206              0           2120   35       2.625224  \n",
       "17207              0           1620   10       1.877541  \n",
       "17208              0           1680  100       0.985301  \n",
       "17209              0           2560   95       3.573799  \n",
       "\n",
       "[17210 rows x 11 columns]"
      ]
     },
     "execution_count": 84,
     "metadata": {},
     "output_type": "execute_result"
    }
   ],
   "source": [
    "df"
   ]
  },
  {
   "cell_type": "code",
   "execution_count": 85,
   "id": "be5c7ce5",
   "metadata": {},
   "outputs": [],
   "source": [
    "#X & Y Split"
   ]
  },
  {
   "cell_type": "code",
   "execution_count": 86,
   "id": "f7920938",
   "metadata": {},
   "outputs": [],
   "source": [
    "X = df.drop(['price'],axis=1)\n",
    "Y = df['price']"
   ]
  },
  {
   "cell_type": "code",
   "execution_count": 88,
   "id": "37e42efe",
   "metadata": {},
   "outputs": [],
   "source": [
    "from sklearn.model_selection import train_test_split\n",
    "X_train,X_test,Y_train,Y_test = train_test_split(X,Y,test_size=0.3,random_state=7)\n",
    "\n",
    "# Classification mai krte hai stratify=Y, Regression mai stratify = Y ni krenge"
   ]
  },
  {
   "cell_type": "code",
   "execution_count": 89,
   "id": "6436896a",
   "metadata": {},
   "outputs": [
    {
     "data": {
      "text/plain": [
       "((12047, 10), (5163, 10), (12047,), (5163,))"
      ]
     },
     "execution_count": 89,
     "metadata": {},
     "output_type": "execute_result"
    }
   ],
   "source": [
    "X_train.shape,X_test.shape,Y_train.shape,Y_test.shape"
   ]
  },
  {
   "cell_type": "code",
   "execution_count": 93,
   "id": "7fe1d787",
   "metadata": {},
   "outputs": [],
   "source": [
    "from sklearn.linear_model import LinearRegression,Lasso,Ridge"
   ]
  },
  {
   "cell_type": "code",
   "execution_count": 94,
   "id": "52def84c",
   "metadata": {},
   "outputs": [],
   "source": [
    "lr = LinearRegression()\n",
    "lr.fit(X_train,Y_train)\n",
    "Y_pred = lr.predict(X_test)"
   ]
  },
  {
   "cell_type": "code",
   "execution_count": 95,
   "id": "7392da12",
   "metadata": {},
   "outputs": [],
   "source": [
    "from sklearn.metrics import r2_score,mean_squared_error,mean_absolute_error"
   ]
  },
  {
   "cell_type": "code",
   "execution_count": 99,
   "id": "5dbf29e5",
   "metadata": {},
   "outputs": [
    {
     "data": {
      "text/plain": [
       "(0.6459046924692622, 141278.7196100435, 48000217917.92888)"
      ]
     },
     "execution_count": 99,
     "metadata": {},
     "output_type": "execute_result"
    }
   ],
   "source": [
    "r2_score(Y_test,Y_pred),mean_absolute_error(Y_test,Y_pred) , mean_squared_error(Y_test,Y_pred)\n",
    "# mean_squared_error is not good for regression"
   ]
  },
  {
   "cell_type": "code",
   "execution_count": 100,
   "id": "cb8840cf",
   "metadata": {},
   "outputs": [
    {
     "data": {
      "text/plain": [
       "(542355.0619794693, 5570000, 82000)"
      ]
     },
     "execution_count": 100,
     "metadata": {},
     "output_type": "execute_result"
    }
   ],
   "source": [
    "Y_test.mean() , Y_test.max() , Y_test.min()"
   ]
  },
  {
   "cell_type": "code",
   "execution_count": 112,
   "id": "e4752b8e",
   "metadata": {},
   "outputs": [],
   "source": [
    "ls = Lasso(alpha=1000000,random_state=7)\n",
    "ls.fit(X_train,Y_train)\n",
    "Y_pred = ls.predict(X_test)"
   ]
  },
  {
   "cell_type": "code",
   "execution_count": 113,
   "id": "8847e60c",
   "metadata": {},
   "outputs": [
    {
     "data": {
      "text/plain": [
       "(0.530166273818098, 166700.58361623762, 63689410060.78186)"
      ]
     },
     "execution_count": 113,
     "metadata": {},
     "output_type": "execute_result"
    }
   ],
   "source": [
    "r2_score(Y_test,Y_pred),mean_absolute_error(Y_test,Y_pred) , mean_squared_error(Y_test,Y_pred)"
   ]
  },
  {
   "cell_type": "code",
   "execution_count": 114,
   "id": "6f273fb7",
   "metadata": {},
   "outputs": [
    {
     "data": {
      "text/plain": [
       "array([  -0.        ,    0.        ,    0.        ,    0.        ,\n",
       "          0.        ,  238.66139973,  250.16053782,   82.03132688,\n",
       "       1075.06759992,   -0.        ])"
      ]
     },
     "execution_count": 114,
     "metadata": {},
     "output_type": "execute_result"
    }
   ],
   "source": [
    "ls.coef_"
   ]
  },
  {
   "cell_type": "code",
   "execution_count": 135,
   "id": "852b92ee",
   "metadata": {},
   "outputs": [],
   "source": [
    "rd = Ridge(alpha=10000000,random_state=7)\n",
    "rd.fit(X_train,Y_train)\n",
    "Y_pred = rd.predict(X_test)"
   ]
  },
  {
   "cell_type": "code",
   "execution_count": 136,
   "id": "fa2733c6",
   "metadata": {},
   "outputs": [
    {
     "data": {
      "text/plain": [
       "(0.5316697517856382, 166678.69915769887, 63485602587.08222)"
      ]
     },
     "execution_count": 136,
     "metadata": {},
     "output_type": "execute_result"
    }
   ],
   "source": [
    "r2_score(Y_test,Y_pred),mean_absolute_error(Y_test,Y_pred) , mean_squared_error(Y_test,Y_pred)"
   ]
  },
  {
   "cell_type": "code",
   "execution_count": 137,
   "id": "9bf9c767",
   "metadata": {},
   "outputs": [
    {
     "data": {
      "text/plain": [
       "array([ -37.69952105,   13.84220785,    7.78991668,   15.038598  ,\n",
       "         72.55296369,  240.31986316,  253.25545979,   83.09074632,\n",
       "       1149.85885683,  -50.39428412])"
      ]
     },
     "execution_count": 137,
     "metadata": {},
     "output_type": "execute_result"
    }
   ],
   "source": [
    "rd.coef_"
   ]
  },
  {
   "cell_type": "markdown",
   "id": "30e37dab",
   "metadata": {},
   "source": [
    "# Polynomial Features and Selection by Lasso,Ridge"
   ]
  },
  {
   "cell_type": "code",
   "execution_count": 148,
   "id": "69ad5fa9",
   "metadata": {},
   "outputs": [],
   "source": [
    "from sklearn.preprocessing import PolynomialFeatures"
   ]
  },
  {
   "cell_type": "code",
   "execution_count": 149,
   "id": "d4854b86",
   "metadata": {},
   "outputs": [],
   "source": [
    "X_poly = PolynomialFeatures(degree=3).fit_transform(X)"
   ]
  },
  {
   "cell_type": "code",
   "execution_count": 150,
   "id": "537d4b59",
   "metadata": {},
   "outputs": [
    {
     "data": {
      "text/plain": [
       "(17210, 286)"
      ]
     },
     "execution_count": 150,
     "metadata": {},
     "output_type": "execute_result"
    }
   ],
   "source": [
    "X_poly.shape"
   ]
  },
  {
   "cell_type": "code",
   "execution_count": 153,
   "id": "2f02ea3a",
   "metadata": {},
   "outputs": [],
   "source": [
    "X_train_poly,X_test_poly,Y_train,Y_test  = train_test_split(X_poly,Y,test_size=0.3,random_state=7)"
   ]
  },
  {
   "cell_type": "code",
   "execution_count": 154,
   "id": "728ec5d6",
   "metadata": {},
   "outputs": [
    {
     "data": {
      "text/plain": [
       "((12047, 286), (5163, 286), (12047,), (5163,))"
      ]
     },
     "execution_count": 154,
     "metadata": {},
     "output_type": "execute_result"
    }
   ],
   "source": [
    "X_train_poly.shape,X_test_poly.shape,Y_train.shape,Y_test.shape"
   ]
  },
  {
   "cell_type": "code",
   "execution_count": 159,
   "id": "9f02de65",
   "metadata": {},
   "outputs": [],
   "source": [
    "lr = LinearRegression()\n",
    "lr.fit(X_train_poly,Y_train)\n",
    "Y_pred = lr.predict(X_test_poly)"
   ]
  },
  {
   "cell_type": "code",
   "execution_count": 160,
   "id": "579d473f",
   "metadata": {},
   "outputs": [
    {
     "data": {
      "text/plain": [
       "(0.6926458125278124, 126614.18203328343, 41664116024.3907)"
      ]
     },
     "execution_count": 160,
     "metadata": {},
     "output_type": "execute_result"
    }
   ],
   "source": [
    "r2_score(Y_test,Y_pred),mean_absolute_error(Y_test,Y_pred) , mean_squared_error(Y_test,Y_pred)"
   ]
  },
  {
   "cell_type": "code",
   "execution_count": 161,
   "id": "cf23c03e",
   "metadata": {},
   "outputs": [
    {
     "name": "stderr",
     "output_type": "stream",
     "text": [
      "C:\\Users\\Lenovo\\anaconda3\\Lib\\site-packages\\sklearn\\linear_model\\_ridge.py:211: LinAlgWarning: Ill-conditioned matrix (rcond=5.23463e-21): result may not be accurate.\n",
      "  return linalg.solve(A, Xy, assume_a=\"pos\", overwrite_a=True).T\n"
     ]
    }
   ],
   "source": [
    "rd = Ridge(alpha=100000,random_state=7)\n",
    "rd.fit(X_train_poly,Y_train)\n",
    "Y_pred = rd.predict(X_test_poly)"
   ]
  },
  {
   "cell_type": "code",
   "execution_count": 162,
   "id": "388f8584",
   "metadata": {},
   "outputs": [
    {
     "data": {
      "text/plain": [
       "(0.7203407295586899, 124013.29444145523, 37909866746.219505)"
      ]
     },
     "execution_count": 162,
     "metadata": {},
     "output_type": "execute_result"
    }
   ],
   "source": [
    "r2_score(Y_test,Y_pred),mean_absolute_error(Y_test,Y_pred) , mean_squared_error(Y_test,Y_pred)"
   ]
  },
  {
   "cell_type": "code",
   "execution_count": null,
   "id": "ec10fc27",
   "metadata": {},
   "outputs": [],
   "source": []
  }
 ],
 "metadata": {
  "kernelspec": {
   "display_name": "Python 3 (ipykernel)",
   "language": "python",
   "name": "python3"
  },
  "language_info": {
   "codemirror_mode": {
    "name": "ipython",
    "version": 3
   },
   "file_extension": ".py",
   "mimetype": "text/x-python",
   "name": "python",
   "nbconvert_exporter": "python",
   "pygments_lexer": "ipython3",
   "version": "3.11.5"
  }
 },
 "nbformat": 4,
 "nbformat_minor": 5
}
